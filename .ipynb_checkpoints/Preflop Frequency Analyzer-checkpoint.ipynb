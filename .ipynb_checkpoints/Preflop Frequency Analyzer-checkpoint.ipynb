{
 "cells": [
  {
   "cell_type": "code",
   "execution_count": 2,
   "metadata": {},
   "outputs": [],
   "source": [
    "#Preflop analyzer\n"
   ]
  },
  {
   "cell_type": "code",
   "execution_count": 3,
   "metadata": {},
   "outputs": [],
   "source": [
    "#Goal create a Faise First In(RFI) table with position \n",
    " #howto - need to parse my hands, then determine what position im in, and determine if im the RFI\n",
    " #howto - then, i need to matplotlib 6 or so plots from the individual positions\n",
    "         #- i would like this to be in the standard (A-2 * A-2) plot coloring the played range \n",
    "\n",
    "#Goal 2 - take the data and report some sort of percentage of play for hand per position, otherwise we may misrepresent a super large range of hands \n",
    " #howto - we need a boolean average of hand per position reported in our figure \n",
    "#Goal "
   ]
  },
  {
   "cell_type": "code",
   "execution_count": 8,
   "metadata": {},
   "outputs": [],
   "source": [
    "import pandas as pd"
   ]
  },
  {
   "cell_type": "code",
   "execution_count": 2,
   "metadata": {},
   "outputs": [
    {
     "name": "stdout",
     "output_type": "stream",
     "text": [
      "file dir:C:\\Users\\edavid\\Documents\\Data\\Preflop-frequency-analyzer\\IPHH\\3.txt\n",
      " #3915270390 TBL#21036458 HOLDEM No Limit - 2020-04-04 16:39:57\n",
      "Seat 1: UTG ($10.96 in chips)\n",
      "Seat 2: UTG+1 ($9.32 in chips)\n",
      "Seat 3: UTG+2 ($13.01 in chips)\n",
      "Seat 4: UTG+3 ($9.75 in chips)\n",
      "Seat 5: UTG+4 ($9.85 in chips)\n",
      "Seat 6: UTG+5 ($19.19 in chips)\n",
      "Seat 7: Dealer [ME] ($9.85 in chips)\n",
      "Seat 8: Small Blind ($9.60 in chips)\n",
      "Seat 9: Big Blind ($7.26 in chips)\n",
      "Dealer  [ME] : Set dealer [7] \n",
      "Small Blind : Small Blind $0.05 \n",
      "Big Blind : Big blind $0.10 \n",
      "*** HOLE CARDS ***\n",
      "UTG : Card dealt to a spot [8c Td] \n",
      "UTG+1 : Card dealt to a spot [Ah 6c] \n",
      "UTG+2 : Card dealt to a spot [3s Qd] \n",
      "UTG+3 : Card dealt to a spot [7h 2s] \n",
      "UTG+4 : Card dealt to a spot [9s Jc] \n",
      "UTG+5 : Card dealt to a spot [5d Ks] \n",
      "Dealer  [ME] : Card dealt to a spot [6s 2c] \n",
      "Small Blind : Card dealt to a spot [2d 4d] \n",
      "Big Blind : Card dealt to a spot [8h Ad] \n",
      "UTG : Folds\n",
      "UTG+1 : Folds\n",
      "UTG+2 : Folds\n",
      "UTG+2 : Seat stand\n",
      "UTG+2 : Table leave user\n",
      "UTG+3 : Folds\n",
      "UTG+4 : Folds\n",
      "Table enter user\n",
      "UTG+5 : Raises $0.30 to $0.30\n",
      "Seat sit down\n",
      "Dealer  [ME] : Folds\n",
      "Table deposit $10 \n",
      "Small Blind : Folds\n",
      "Big Blind : Calls $0.20 \n",
      "*** FLOP *** [4h 4s 4c]\n",
      "Big Blind : Checks\n",
      "UTG+5 : Bets $0.47 \n",
      "Big Blind : Folds\n",
      "UTG+5 : Return uncalled portion of bet $0.47 \n",
      "UTG+5 : Does not show [5d Ks] (Three of a kind)\n",
      "UTG+5 : Hand result $0.62 \n",
      "*** SUMMARY ***\n",
      "Total Pot($0.65)\n",
      "Board [4h 4s 4c  ]\n",
      "Seat+1: UTG Folded before the FLOP\n",
      "Seat+2: UTG+1 Folded before the FLOP\n",
      "Seat+3: UTG+2 Folded before the FLOP\n",
      "Seat+4: UTG+3 Folded before the FLOP\n",
      "Seat+5: UTG+4 Folded before the FLOP\n",
      "Seat+6: UTG+5 $0.62 [Does not show]  \n",
      "Seat+7: Dealer Folded before the FLOP\n",
      "Seat+8: Small Blind Folded before the FLOP\n",
      "Seat+9: Big Blind Folded on the FLOP\n",
      "\n",
      "\n",
      "\n"
     ]
    }
   ],
   "source": [
    "#ignitionHandHistoryFile = input(\"Text file dir:\")\n",
    "handhistoryfilename = input(\"file dir:\")\n",
    "handhistoryfilename.replace(\"\\\\\",\"\\\\\\\\\")\n",
    "                            \n",
    "ignitionHands = open(handhistoryfilename,\"r\").read()\n",
    "print(ignitionHands.split(\"Ignition Hand\")[3])\n",
    "\n"
   ]
  },
  {
   "cell_type": "code",
   "execution_count": 22,
   "metadata": {},
   "outputs": [
    {
     "name": "stdout",
     "output_type": "stream",
     "text": [
      "UTG+3\n",
      "Js\n",
      "6d\n"
     ]
    }
   ],
   "source": [
    "#this block tests the text parsing. but ultimately isnt part of the end product\n",
    "i=2\n",
    "s = ignitionHands.split(\"Ignition Hand\")[i]\n",
    "startstringmarker = \"*** HOLE CARDS ***\"\n",
    "endingstringmarker = \"*** FLOP ***\"\n",
    "\n",
    "start = s.find(startstringmarker) + len(startstringmarker)\n",
    "end = s.find(endingstringmarker)\n",
    "\n",
    "substring = s[start:end]\n",
    "\n",
    "substringline = substring.splitlines()[2]\n",
    "if s.find(\":\") == -1:\n",
    "    pass\n",
    "else:\n",
    "    positionInfo = substringline[:substringline.find(\":\")-1]\n",
    "    substringlinewMeRemoved = substringline.replace(\"[Me]\",\"\")\n",
    "    leftcard = substringlinewMeRemoved[substringlinewMeRemoved.find(\"[\")+1:substringlinewMeRemoved.find(\"[\")+3]\n",
    "    rightcard = substringlinewMeRemoved[substringlinewMeRemoved.find(\"[\")+4:substringlinewMeRemoved.find(\"[\")+6]\n",
    "    pass#extract data\n",
    "\n",
    "for i in range(len(substringline)):\n",
    "    if positionInfo in substringline:\n",
    "        if \n",
    "        \n",
    "\n",
    "print(positionInfo)\n",
    "print(leftcard)\n",
    "print(rightcard)"
   ]
  },
  {
   "cell_type": "code",
   "execution_count": 7,
   "metadata": {
    "scrolled": true
   },
   "outputs": [],
   "source": [
    "\n",
    "#Process Data\n",
    "#----------Text parcing\n",
    "##---------Table of hand and action \n",
    "###--------Table of RFI position "
   ]
  },
  {
   "cell_type": "code",
   "execution_count": 10,
   "metadata": {},
   "outputs": [],
   "source": [
    "def parseHandPos(preflopLine):\n",
    "    #accept 1 line of preflop text \n",
    "    #returns hand and Position info\n",
    "    \n",
    "    if preflopLine.find(\"Card dealt to a spot\") == -1: #this would mean this isnt a card assignemnt line #mistakes \n",
    "        positionInfo,leftcard,rightcard = None,None,None\n",
    "    else: #text parse out \n",
    "        positionInfo = substringline[:substringline.find(\":\")-1]\n",
    "        substringlinewMeRemoved = substringline.replace(\"[Me]\",\"\")\n",
    "        leftcard = substringlinewMeRemoved[substringlinewMeRemoved.find(\"[\")+1:substringlinewMeRemoved.find(\"[\")+3]\n",
    "        rightcard = substringlinewMeRemoved[substringlinewMeRemoved.find(\"[\")+4:substringlinewMeRemoved.find(\"[\")+6]\n",
    "        pass#extract data\n",
    "    \n",
    "    return positionInfo,leftcard,rightcard #cards have no fucntional order"
   ]
  },
  {
   "cell_type": "code",
   "execution_count": 31,
   "metadata": {},
   "outputs": [],
   "source": [
    "#find RFI\n",
    "#incomplete funciton ____________________________%%%%%%%%%%%%%%%%%%%%%%%%%%%%%\n",
    "def getRFIposition(preflopBlock):\n",
    "    \n",
    "    #assume that the first line that says the word raise should be the RFI\n",
    "    # check by seing if the raise to x with total of x\n",
    "    \n",
    "    preflopLines = preflopBlock.splitlines()\n",
    "    \n",
    "    positionString= \"notfound\"\n",
    "    for i in range(len(preflopLines)):\n",
    "        textline = preflopLines[i]\n",
    "        if \"Raise\" in textline:\n",
    "            positionString = textline[:textline.find(\":\")-1]\n",
    "    \n",
    "    return positionString"
   ]
  },
  {
   "cell_type": "code",
   "execution_count": 32,
   "metadata": {},
   "outputs": [
    {
     "name": "stdout",
     "output_type": "stream",
     "text": [
      "UTG+4\n"
     ]
    }
   ],
   "source": [
    "print(getRFIposition(substring))"
   ]
  },
  {
   "cell_type": "code",
   "execution_count": 12,
   "metadata": {},
   "outputs": [],
   "source": [
    "#find RFI or fold \n",
    "#runs until there is a RFI, \n",
    "def raiseFirstIn(preflopblock):\n",
    "    preflopLines = preflopblock.splitlines()\n",
    "    \n",
    "    preflopdata = pd.DataFrame(columns = [\"Hand Index\",\"Table Position\",\"Hand\"])\n",
    "    \n",
    "    for i in range(len(preflopLines)):\n",
    "        \n",
    "        \n",
    "        if \"Card dealt to a spot\" not in preflopLines[i]:\n",
    "            positionInfo,leftcard,rightcard = parseHandPos(preflopLines[i])\n",
    "            handinfo = pd.DataFrame([positionInfo,leftcard,rightcard]) \n",
    "            \n",
    "            preflopdata.append(handinfo)\n",
    "        if \"Folds\" in preflopLines[i]:\n",
    "                action = \"Folds\"\n",
    "                    \n",
    "                    #find cards for same position\n",
    "         \n",
    "        \n",
    "    \n",
    "    \n",
    "    \n",
    "    return preflopdata\n",
    "\n",
    "#preflop block \n",
    "\n",
    "\n",
    "#return dataframe to append "
   ]
  },
  {
   "cell_type": "code",
   "execution_count": 16,
   "metadata": {},
   "outputs": [
    {
     "data": {
      "text/html": [
       "<div>\n",
       "<style scoped>\n",
       "    .dataframe tbody tr th:only-of-type {\n",
       "        vertical-align: middle;\n",
       "    }\n",
       "\n",
       "    .dataframe tbody tr th {\n",
       "        vertical-align: top;\n",
       "    }\n",
       "\n",
       "    .dataframe thead th {\n",
       "        text-align: right;\n",
       "    }\n",
       "</style>\n",
       "<table border=\"1\" class=\"dataframe\">\n",
       "  <thead>\n",
       "    <tr style=\"text-align: right;\">\n",
       "      <th></th>\n",
       "      <th>Hand Index</th>\n",
       "      <th>Table Position</th>\n",
       "      <th>Hand</th>\n",
       "    </tr>\n",
       "  </thead>\n",
       "  <tbody>\n",
       "  </tbody>\n",
       "</table>\n",
       "</div>"
      ],
      "text/plain": [
       "Empty DataFrame\n",
       "Columns: [Hand Index, Table Position, Hand]\n",
       "Index: []"
      ]
     },
     "execution_count": 16,
     "metadata": {},
     "output_type": "execute_result"
    }
   ],
   "source": [
    "i=3\n",
    "s = ignitionHands.split(\"Ignition Hand\")[i]\n",
    "startstringmarker = \"*** HOLE CARDS ***\"\n",
    "endingstringmarker = \"*** FLOP ***\"\n",
    "\n",
    "start = s.find(startstringmarker) + len(startstringmarker)\n",
    "end = s.find(endingstringmarker)\n",
    "\n",
    "substring = s[start:end]\n",
    "\n",
    "raiseFirstIn(substring).head()\n"
   ]
  },
  {
   "cell_type": "code",
   "execution_count": 14,
   "metadata": {},
   "outputs": [
    {
     "ename": "NameError",
     "evalue": "name 'preflopdata' is not defined",
     "output_type": "error",
     "traceback": [
      "\u001b[1;31m---------------------------------------------------------------------------\u001b[0m",
      "\u001b[1;31mNameError\u001b[0m                                 Traceback (most recent call last)",
      "\u001b[1;32m<ipython-input-14-d571109b28fd>\u001b[0m in \u001b[0;36m<module>\u001b[1;34m\u001b[0m\n\u001b[1;32m----> 1\u001b[1;33m \u001b[0mpreflopdata\u001b[0m\u001b[1;33m.\u001b[0m\u001b[0mhead\u001b[0m\u001b[1;33m(\u001b[0m\u001b[1;36m5\u001b[0m\u001b[1;33m)\u001b[0m\u001b[1;33m\u001b[0m\u001b[1;33m\u001b[0m\u001b[0m\n\u001b[0m",
      "\u001b[1;31mNameError\u001b[0m: name 'preflopdata' is not defined"
     ]
    }
   ],
   "source": [
    "preflopdata.head(5)"
   ]
  },
  {
   "cell_type": "code",
   "execution_count": null,
   "metadata": {},
   "outputs": [],
   "source": []
  }
 ],
 "metadata": {
  "kernelspec": {
   "display_name": "Python 3",
   "language": "python",
   "name": "python3"
  },
  "language_info": {
   "codemirror_mode": {
    "name": "ipython",
    "version": 3
   },
   "file_extension": ".py",
   "mimetype": "text/x-python",
   "name": "python",
   "nbconvert_exporter": "python",
   "pygments_lexer": "ipython3",
   "version": "3.8.3"
  }
 },
 "nbformat": 4,
 "nbformat_minor": 4
}
