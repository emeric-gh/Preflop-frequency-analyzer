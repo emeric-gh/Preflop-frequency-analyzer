{
 "cells": [
  {
   "cell_type": "code",
   "execution_count": 1,
   "metadata": {},
   "outputs": [],
   "source": [
    "#Preflop analyzer\n"
   ]
  },
  {
   "cell_type": "code",
   "execution_count": 2,
   "metadata": {},
   "outputs": [],
   "source": [
    "#Goal create a Faise First In(RFI) table with position \n",
    " #howto - need to parse my hands, then determine what position im in, and determine if im the RFI\n",
    " #howto - then, i need to matplotlib 6 or so plots from the individual positions\n",
    "         #- i would like this to be in the standard (A-2 * A-2) plot coloring the played range \n",
    "\n",
    "#Goal 2 - take the data and report some sort of percentage of play for hand per position, otherwise we may misrepresent a super large range of hands \n",
    " #howto - we need a boolean average of hand per position reported in our figure \n",
    "#Goal "
   ]
  },
  {
   "cell_type": "code",
   "execution_count": 3,
   "metadata": {},
   "outputs": [],
   "source": [
    "import pandas as pd"
   ]
  },
  {
   "cell_type": "code",
   "execution_count": 7,
   "metadata": {},
   "outputs": [
    {
     "name": "stdout",
     "output_type": "stream",
     "text": [
      "file dir:C:\\programming\\preflop2\\IPHH\\3.txt\n"
     ]
    }
   ],
   "source": [
    "#ignitionHandHistoryFile = input(\"Text file dir:\")\n",
    "handhistoryfilename = input(\"file dir:\")\n",
    "handhistoryfilename.replace(\"\\\\\",\"\\\\\\\\\")\n",
    "#handhistoryfilename.replace('','')                            \n",
    "ignitionHands = open(handhistoryfilename,\"r\").read()\n",
    "\n",
    "\n"
   ]
  },
  {
   "cell_type": "code",
   "execution_count": 141,
   "metadata": {},
   "outputs": [
    {
     "name": "stdout",
     "output_type": "stream",
     "text": [
      "\n"
     ]
    }
   ],
   "source": [
    "testHand = ignitionHands.split(\"Ignition Hand\")[0]\n",
    "print(testHand)"
   ]
  },
  {
   "cell_type": "code",
   "execution_count": null,
   "metadata": {
    "scrolled": true
   },
   "outputs": [],
   "source": []
  },
  {
   "cell_type": "code",
   "execution_count": 107,
   "metadata": {},
   "outputs": [],
   "source": [
    "#completed functions \n",
    "\n",
    "def parseHandPos(preflopLine):\n",
    "    #accept 1 line of preflop text \n",
    "    #returns hand and Position info\n",
    "    \n",
    "    if preflopLine.find(\"Card dealt to a spot\") == -1: #this would mean this isnt a card assignemnt line #mistakes \n",
    "        positionInfo,leftcard,rightcard = None,None,None\n",
    "    else: #text parse out \n",
    "        \n",
    "        preflopLinewMeRemoved = preflopLine.replace(' [ME] ','')\n",
    "        positionInfo = preflopLinewMeRemoved[:preflopLinewMeRemoved.find(\":\")-1]\n",
    "        leftcard = preflopLinewMeRemoved[preflopLinewMeRemoved.find(\"[\")+1:preflopLinewMeRemoved.find(\"[\")+3]\n",
    "        rightcard = preflopLinewMeRemoved[preflopLinewMeRemoved.find(\"[\")+4:preflopLinewMeRemoved.find(\"[\")+6]\n",
    "    \n",
    "    return positionInfo,leftcard,rightcard #cards have no fucntional order\n",
    "\n",
    "def findSubstringInList(searchList, substring):\n",
    "    #this useful fuction will return the index of the first list index that contains the substring\n",
    "    \n",
    "    if any(substring in string for string in searchList):\n",
    "        return [idx for idx, s in enumerate(searchList) if substring in s][0] #returns the index location\n",
    "    else:\n",
    "        return -1 # returns -1 if the substring is not in the list\n",
    "\n",
    "def preflopChunkParse(handHistory):\n",
    "    ##assume that the last preflop aciton is the line before the \"*** FLOP ***\"\n",
    "    handHistoryLines = handHistory.splitlines()\n",
    "    \n",
    "    preflopEndPhrase = \"*** FLOP ***\"\n",
    "    preflopStartPhrase = \"Card dealt to a spot\"\n",
    "    #using the phrase that starts the next phase\n",
    "    preflopEnd =  findSubstringInList(handHistoryLines,preflopEndPhrase)\n",
    "    \n",
    "    #find the first list index in the reverse list that contains the phrase for card delt\n",
    "    #this should be the last thing done before the preflop aciton \n",
    "    preflopStart = len(handHistoryLines) - findSubstringInList(handHistoryLines[::-1],preflopStartPhrase)\n",
    "    \n",
    "    #find the beginning and ending line\n",
    "    preflopHandHistoryLines = handHistoryLines[preflopStart:preflopEnd]\n",
    "    return preflopHandHistoryLines\n",
    "\n",
    "def RFIAction(preflopHandHistoryLines):\n",
    "    #expecting input of lines from the preflop\n",
    "    \n",
    "    RFIEndPhrase = \"Raises\"\n",
    "    \n",
    "    endingIndex = findSubstringInList(preflopHandHistoryLines, RFIEndPhrase)\n",
    "    \n",
    "    RFIActionLines = preflopHandHistoryLines[endingIndex]\n",
    "    \n",
    "    return RFIActionLines\n",
    "\n",
    "def getAllLinesContainingSubString(listOfStrings, substring):\n",
    "    \n",
    "    return [s for s in listOfStrings if substring in s]\n",
    "\n",
    "\n",
    "\n",
    "def spliceDeal(handHistory):\n",
    "    handHistoryLines = handHistory.splitlines() \n",
    "    cardDealPhrase = \"Card dealt to a spot\"\n",
    "    return getAllLinesContainingSubString(handHistoryLines, cardDealPhrase)\n",
    "\n",
    "\n",
    "def createHoleCardDict(handHistory):\n",
    "    \n",
    "    #first reduce the Hand History to a list of relevant dealing card to position list\n",
    "    dealtCardLines = spliceDeal(handHistory)\n",
    "    \n",
    "    #this line creats a dictionary by taking each line of the dealing action \n",
    "    #then it runs throught the parseHandpositions which give it the pos dict to the cards\n",
    "    holeCardByPos = {parseHandPos(dealCardLine)[0]:(parseHandPos(dealCardLine)[1],parseHandPos(dealCardLine)[2]) for dealCardLine in dealtCardLines}\n",
    "        \n",
    "    return holeCardByPos\n",
    "\n",
    "def getRFIPositionHand(agrigateHandHistory):\n",
    "    #feed in Hand history output \n",
    "    #we want a dataframe that has Position and hand for every hand fed through a string\n",
    "    \n",
    "    #get line with RFI action \n",
    "    RFIAcitonLine = RFIAction(agrigateHandHistory.splitlines())\n",
    "    \n",
    "    preflopLinewMeRemoved = RFIAcitonLine.replace(' [ME] ','')\n",
    "    RFIPosition = preflopLinewMeRemoved[:preflopLinewMeRemoved.find(\":\")-1]\n",
    "    \n",
    "    #use the line to get position and then feed into dictionary\n",
    "    \n",
    "    holeCardByPos = createHoleCardDict(agrigateHandHistory)\n",
    "    \n",
    "    hand = (holeCardByPos[RFIPosition])\n",
    "    \n",
    "    \n",
    "    return RFIPosition, hand \n",
    "    \n"
   ]
  },
  {
   "cell_type": "code",
   "execution_count": 89,
   "metadata": {},
   "outputs": [],
   "source": [
    "\n",
    "    \n",
    "    "
   ]
  },
  {
   "cell_type": "code",
   "execution_count": 116,
   "metadata": {},
   "outputs": [],
   "source": [
    "###-\n",
    "###This takes the session Hand history and puts it into one file for processing\n",
    "###---------------------------------------------------------------------------\n",
    "\n",
    "from os import listdir\n",
    "from os.path import isfile, join\n",
    "\n",
    "def mergeTextToWriteDestination(filenames,Dir):\n",
    "    fileOutputPath = input(\"path to output files\")\n",
    "    with open(fileOutputPath, 'w') as outfile:\n",
    "        for fname in filenames:\n",
    "            with open(Dir + fname) as infile:\n",
    "                outfile.write(infile.read())\n",
    "    pass\n",
    "\n",
    "def getAllFilesFromPath(directoryPath):\n",
    "    return [f for f in listdir(directoryPath) if isfile(join(directoryPath, f))]\n",
    "\n",
    "#Main Rrun\n",
    "#this could be created as a function \n",
    "def sessionFilestoOneFile():\n",
    "    mypath = input(\"Path to Files\")\n",
    "    AllFilePaths = getAllFilesFromPath(mypath)\n",
    "\n",
    "    mergeTextToWriteDestination(AllFilePaths, mypath)\n",
    "    pass\n",
    "\n",
    "\n",
    "\n",
    "\n",
    "\n"
   ]
  },
  {
   "cell_type": "code",
   "execution_count": 118,
   "metadata": {},
   "outputs": [],
   "source": [
    "def basicFileReader(): #rename this is aweful\n",
    "    handhistoryfilename = input(\"file dir:\")\n",
    "    handhistoryfilename.replace(\"\\\\\",\"\\\\\\\\\")\n",
    "    #handhistoryfilename.replace('','')                            \n",
    "    handHistoryText = open(handhistoryfilename,\"r\").read()\n",
    "    return handHistoryText\n",
    "\n"
   ]
  },
  {
   "cell_type": "code",
   "execution_count": 149,
   "metadata": {},
   "outputs": [
    {
     "name": "stdout",
     "output_type": "stream",
     "text": [
      "file dir:C:\\programming\\preflop2\\IPHH\\Data.txt\n",
      "\n",
      "0\n",
      "1\n"
     ]
    },
    {
     "ename": "KeyError",
     "evalue": "''",
     "output_type": "error",
     "traceback": [
      "\u001b[1;31m---------------------------------------------------------------------------\u001b[0m",
      "\u001b[1;31mKeyError\u001b[0m                                  Traceback (most recent call last)",
      "\u001b[1;32m<ipython-input-149-141818e40da5>\u001b[0m in \u001b[0;36m<module>\u001b[1;34m\u001b[0m\n\u001b[0;32m     19\u001b[0m     \u001b[0mcount\u001b[0m\u001b[1;33m+=\u001b[0m\u001b[1;36m1\u001b[0m\u001b[1;33m\u001b[0m\u001b[1;33m\u001b[0m\u001b[0m\n\u001b[0;32m     20\u001b[0m     \u001b[1;32mif\u001b[0m \u001b[0mlen\u001b[0m\u001b[1;33m(\u001b[0m\u001b[0mhand\u001b[0m\u001b[1;33m)\u001b[0m\u001b[1;33m>\u001b[0m\u001b[1;36m10\u001b[0m\u001b[1;33m:\u001b[0m\u001b[1;33m\u001b[0m\u001b[1;33m\u001b[0m\u001b[0m\n\u001b[1;32m---> 21\u001b[1;33m         \u001b[0md\u001b[0m \u001b[1;33m=\u001b[0m \u001b[1;33m{\u001b[0m\u001b[0mHeader1\u001b[0m\u001b[1;33m:\u001b[0m \u001b[0mgetRFIPositionHand\u001b[0m\u001b[1;33m(\u001b[0m\u001b[0mhand\u001b[0m\u001b[1;33m)\u001b[0m\u001b[1;33m[\u001b[0m\u001b[1;36m0\u001b[0m\u001b[1;33m]\u001b[0m\u001b[1;33m,\u001b[0m \u001b[0mHeader2\u001b[0m \u001b[1;33m:\u001b[0m \u001b[1;33m(\u001b[0m\u001b[0mgetRFIPositionHand\u001b[0m\u001b[1;33m(\u001b[0m\u001b[0mhand\u001b[0m\u001b[1;33m)\u001b[0m\u001b[1;33m[\u001b[0m\u001b[1;36m1\u001b[0m\u001b[1;33m]\u001b[0m\u001b[1;33m,\u001b[0m\u001b[1;33m)\u001b[0m\u001b[1;33m}\u001b[0m\u001b[1;33m\u001b[0m\u001b[1;33m\u001b[0m\u001b[0m\n\u001b[0m\u001b[0;32m     22\u001b[0m         \u001b[0mnewRFIData\u001b[0m \u001b[1;33m=\u001b[0m \u001b[0mpd\u001b[0m\u001b[1;33m.\u001b[0m\u001b[0mDataFrame\u001b[0m\u001b[1;33m(\u001b[0m\u001b[0md\u001b[0m\u001b[1;33m)\u001b[0m\u001b[1;33m\u001b[0m\u001b[1;33m\u001b[0m\u001b[0m\n\u001b[0;32m     23\u001b[0m         \u001b[0mRFITable\u001b[0m\u001b[1;33m.\u001b[0m\u001b[0mappend\u001b[0m\u001b[1;33m(\u001b[0m\u001b[0mnewRFIData\u001b[0m\u001b[1;33m)\u001b[0m\u001b[1;33m\u001b[0m\u001b[1;33m\u001b[0m\u001b[0m\n",
      "\u001b[1;32m<ipython-input-107-ca1765446ce3>\u001b[0m in \u001b[0;36mgetRFIPositionHand\u001b[1;34m(agrigateHandHistory)\u001b[0m\n\u001b[0;32m     89\u001b[0m     \u001b[0mholeCardByPos\u001b[0m \u001b[1;33m=\u001b[0m \u001b[0mcreateHoleCardDict\u001b[0m\u001b[1;33m(\u001b[0m\u001b[0magrigateHandHistory\u001b[0m\u001b[1;33m)\u001b[0m\u001b[1;33m\u001b[0m\u001b[1;33m\u001b[0m\u001b[0m\n\u001b[0;32m     90\u001b[0m \u001b[1;33m\u001b[0m\u001b[0m\n\u001b[1;32m---> 91\u001b[1;33m     \u001b[0mhand\u001b[0m \u001b[1;33m=\u001b[0m \u001b[1;33m(\u001b[0m\u001b[0mholeCardByPos\u001b[0m\u001b[1;33m[\u001b[0m\u001b[0mRFIPosition\u001b[0m\u001b[1;33m]\u001b[0m\u001b[1;33m)\u001b[0m\u001b[1;33m\u001b[0m\u001b[1;33m\u001b[0m\u001b[0m\n\u001b[0m\u001b[0;32m     92\u001b[0m \u001b[1;33m\u001b[0m\u001b[0m\n\u001b[0;32m     93\u001b[0m \u001b[1;33m\u001b[0m\u001b[0m\n",
      "\u001b[1;31mKeyError\u001b[0m: ''"
     ]
    }
   ],
   "source": [
    "\n",
    "#position_Headers = ['Dealer' , 'Small Blind' , 'Big Blind', 'UTG', 'UTG+1', 'UTG+2', 'UTG+3', 'UTG+4', 'UTG+5']\n",
    "\n",
    "Header1 = 'Positions'\n",
    "Header2 = 'Hand'\n",
    "\n",
    "position_Headers = [Header1, Header2]\n",
    "RFITable = pd.DataFrame(columns = position_Headers)\n",
    "\n",
    "\n",
    "bulkHandHistory = basicFileReader()\n",
    "#iterate over Hands\n",
    "bulkHandHistoryLines = bulkHandHistory.split(\"Ignition Hand\")\n",
    "\n",
    "hand = bulkHandHistoryLines[0]\n",
    "print(hand)\n",
    "count=0\n",
    "for hand in bulkHandHistoryLines:\n",
    "    print(count)\n",
    "    count+=1\n",
    "    if len(hand)>10:\n",
    "        d = {Header1: getRFIPositionHand(hand)[0], Header2 : (getRFIPositionHand(hand)[1],)}\n",
    "        newRFIData = pd.DataFrame(d)\n",
    "        RFITable.append(newRFIData)\n",
    "\n",
    "\n",
    "\n",
    "RFITable.head()\n"
   ]
  },
  {
   "cell_type": "code",
   "execution_count": 136,
   "metadata": {},
   "outputs": [
    {
     "name": "stdout",
     "output_type": "stream",
     "text": [
      "file dir:C:\\programming\\preflop2\\IPHH\\Data.txt\n",
      "Ignition Hand #39152\n"
     ]
    }
   ],
   "source": [
    "bulkHandHistory = basicFileReader()\n",
    "print(bulkHandHistory[0:201])"
   ]
  },
  {
   "cell_type": "code",
   "execution_count": 147,
   "metadata": {},
   "outputs": [
    {
     "name": "stdout",
     "output_type": "stream",
     "text": [
      " #3915239935 TBL#21035758 HOLDEM No Limit - 2020-04-04 15:54:57\n",
      "Seat 1: UTG+2 ($3.43 in chips)\n",
      "Seat 2: UTG+3 ($46.94 in chips)\n",
      "Seat 3: Dealer ($10 in chips)\n",
      "Seat 4: Small Blind ($1.84 in chips)\n",
      "Seat 5: Big Blind [ME] ($10 in chips)\n",
      "Seat 8: UTG ($3.19 in chips)\n",
      "Seat 9: UTG+1 ($11.54 in chips)\n",
      "Dealer : Set dealer [3] \n",
      "Small Blind : Small Blind $0.05 \n",
      "Big Blind  [ME] : Big blind $0.10 \n",
      "*** HOLE CARDS ***\n",
      "UTG+2 : Card dealt to a spot [As 7h] \n",
      "UTG+3 : Card dealt to a spot [3s 6c] \n",
      "Dealer : Card dealt to a spot [3h Qs] \n",
      "Small Blind : Card dealt to a spot [Ts 8h] \n",
      "Big Blind  [ME] : Card dealt to a spot [9c 2s] \n",
      "UTG : Card dealt to a spot [2h Qh] \n",
      "UTG+1 : Card dealt to a spot [6h Qd] \n",
      "UTG : Folds\n",
      "UTG+1 : Folds\n",
      "UTG+2 : Calls $0.10 \n",
      "UTG+3 : Folds\n",
      "Dealer : Folds\n",
      "Small Blind : Calls $0.05 \n",
      "Big Blind  [ME] : Checks\n",
      "*** FLOP *** [6d Ah 7s]\n",
      "Small Blind : Checks\n",
      "Seat stand\n",
      "Table leave user\n",
      "Big Blind  [ME] : Checks\n",
      "UTG+2 : Bets $0.15 \n",
      "Table enter user\n",
      "Seat sit down\n",
      "Table deposit $10 \n",
      "Small Blind : Folds\n",
      "Big Blind  [ME] : Folds\n",
      "UTG+2 : Return uncalled portion of bet $0.15 \n",
      "UTG+2 : Does not show [As 7h] (Two pair)\n",
      "UTG+2 : Hand result $0.29 \n",
      "*** SUMMARY ***\n",
      "Total Pot($0.30)\n",
      "Board [6d Ah 7s  ]\n",
      "Seat+1: UTG+2 $0.29 [Does not show]  \n",
      "Seat+2: UTG+3 Folded before the FLOP\n",
      "Seat+3: Dealer Folded before the FLOP\n",
      "Seat+4: Small Blind Folded on the FLOP\n",
      "Seat+5: Big Blind Folded on the FLOP\n",
      "Seat+8: UTG Folded before the FLOP\n",
      "Seat+9: UTG+1 Folded before the FLOP\n",
      "\n",
      "\n",
      "\n"
     ]
    }
   ],
   "source": [
    "print((bulkHandHistory.split(\"Ignition Hand\")[1]))\n",
    "\n",
    "Header1 = 'Positions'\n",
    "Header2 = 'Hand'\n",
    "\n",
    "d = {Header1: getRFIPositionHand(hand)[0], Header2 : (getRFIPositionHand(hand)[1],)}"
   ]
  },
  {
   "cell_type": "code",
   "execution_count": null,
   "metadata": {},
   "outputs": [],
   "source": []
  },
  {
   "cell_type": "code",
   "execution_count": 7,
   "metadata": {},
   "outputs": [],
   "source": []
  },
  {
   "cell_type": "code",
   "execution_count": null,
   "metadata": {},
   "outputs": [],
   "source": [
    "\n"
   ]
  },
  {
   "cell_type": "code",
   "execution_count": null,
   "metadata": {},
   "outputs": [],
   "source": []
  },
  {
   "cell_type": "code",
   "execution_count": null,
   "metadata": {},
   "outputs": [],
   "source": [
    "\n"
   ]
  },
  {
   "cell_type": "code",
   "execution_count": null,
   "metadata": {},
   "outputs": [],
   "source": []
  }
 ],
 "metadata": {
  "kernelspec": {
   "display_name": "Python 3",
   "language": "python",
   "name": "python3"
  },
  "language_info": {
   "codemirror_mode": {
    "name": "ipython",
    "version": 3
   },
   "file_extension": ".py",
   "mimetype": "text/x-python",
   "name": "python",
   "nbconvert_exporter": "python",
   "pygments_lexer": "ipython3",
   "version": "3.8.3"
  }
 },
 "nbformat": 4,
 "nbformat_minor": 4
}
