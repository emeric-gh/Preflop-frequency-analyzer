{
 "cells": [
  {
   "cell_type": "code",
   "execution_count": 2,
   "metadata": {},
   "outputs": [],
   "source": [
    "#Preflop analyzer\n"
   ]
  },
  {
   "cell_type": "code",
   "execution_count": 3,
   "metadata": {},
   "outputs": [],
   "source": [
    "#Goal create a Faise First In(RFI) table with position \n",
    " #howto - need to parse my hands, then determine what position im in, and determine if im the RFI\n",
    " #howto - then, i need to matplotlib 6 or so plots from the individual positions\n",
    "         #- i would like this to be in the standard (A-2 * A-2) plot coloring the played range \n",
    "\n",
    "#Goal 2 - take the data and report some sort of percentage of play for hand per position, otherwise we may misrepresent a super large range of hands \n",
    " #howto - we need a boolean average of hand per position reported in our figure \n",
    "#Goal "
   ]
  },
  {
   "cell_type": "code",
   "execution_count": 4,
   "metadata": {},
   "outputs": [],
   "source": [
    "import pandas as pd"
   ]
  },
  {
   "cell_type": "code",
   "execution_count": 5,
   "metadata": {},
   "outputs": [
    {
     "name": "stdout",
     "output_type": "stream",
     "text": [
      "file dir:C:\\NGplus\\programming\\preflop\\IPHH\\3.txt\n"
     ]
    }
   ],
   "source": [
    "#ignitionHandHistoryFile = input(\"Text file dir:\")\n",
    "handhistoryfilename = input(\"file dir:\")\n",
    "handhistoryfilename.replace(\"\\\\\",\"\\\\\\\\\")\n",
    "                            \n",
    "ignitionHands = open(handhistoryfilename,\"r\").read()\n",
    "\n",
    "\n"
   ]
  },
  {
   "cell_type": "code",
   "execution_count": 6,
   "metadata": {},
   "outputs": [
    {
     "name": "stdout",
     "output_type": "stream",
     "text": [
      " #3915272643 TBL#21036458 HOLDEM No Limit - 2020-04-04 16:43:10\n",
      "Seat 1: Dealer ($10.81 in chips)\n",
      "Seat 2: Small Blind ($9.46 in chips)\n",
      "Seat 3: Big Blind ($10 in chips)\n",
      "Seat 4: UTG ($9.75 in chips)\n",
      "Seat 5: UTG+1 ($9.85 in chips)\n",
      "Seat 6: UTG+2 ($19.66 in chips)\n",
      "Seat 7: UTG+3 [ME] ($9.85 in chips)\n",
      "Seat 8: UTG+4 ($9.45 in chips)\n",
      "Seat 9: UTG+5 ($6.91 in chips)\n",
      "Dealer : Set dealer [1] \n",
      "Small Blind : Small Blind $0.05 \n",
      "Big Blind : Big blind $0.10 \n",
      "*** HOLE CARDS ***\n",
      "Dealer : Card dealt to a spot [Jd Ks] \n",
      "Small Blind : Card dealt to a spot [8s Kh] \n",
      "Big Blind : Card dealt to a spot [Ts 3s] \n",
      "UTG : Card dealt to a spot [8d 4c] \n",
      "UTG+1 : Card dealt to a spot [4h 3d] \n",
      "UTG+2 : Card dealt to a spot [6d 6h] \n",
      "UTG+3  [ME] : Card dealt to a spot [2d Jh] \n",
      "UTG+4 : Card dealt to a spot [2c Tc] \n",
      "UTG+5 : Card dealt to a spot [9s 7c] \n",
      "UTG : Folds\n",
      "UTG+1 : Folds\n",
      "UTG+2 : Raises $0.30 to $0.30\n",
      "UTG+3  [ME] : Folds\n",
      "UTG+4 : Folds\n",
      "UTG+5 : Folds\n",
      "Dealer : Calls $0.30 \n",
      "Small Blind : Folds\n",
      "Big Blind : Folds\n",
      "*** FLOP *** [Jc 5s 6s]\n",
      "UTG+2 : Bets $0.36 \n",
      "Dealer : Raises $1.08 to $1.08\n",
      "UTG+2 : All-in(raise) $19 to $19.36\n",
      "Dealer : All-in $9.43 \n",
      "UTG+2 : Return uncalled portion of bet $8.85 \n",
      "*** TURN *** [Jc 5s 6s] [9d]\n",
      "*** RIVER *** [Jc 5s 6s 9d] [7s]\n",
      "Dealer : Showdown [Jd Jc Ks 9d 7s] (One pair)\n",
      "UTG+2 : Showdown [6s 6h 6d Jc 9d] (Three of a kind)\n",
      "UTG+2 : Hand result $20.69 \n",
      "Dealer : Seat sit out\n",
      "*** SUMMARY ***\n",
      "Total Pot($21.77)\n",
      "Board [Jc 5s 6s 9d 7s]\n",
      "Seat+1: Dealer lost with One pair [Jd Ks-Jd Jc Ks 9d 7s]  \n",
      "Seat+2: Small Blind Folded before the FLOP\n",
      "Seat+3: Big Blind Folded before the FLOP\n",
      "Seat+4: UTG Folded before the FLOP\n",
      "Seat+5: UTG+1 Folded before the FLOP\n",
      "Seat+6: UTG+2 $20.69  with Three of a kind [6d 6h-6s 6h 6d Jc 9d]  \n",
      "Seat+7: UTG+3 Folded before the FLOP\n",
      "Seat+8: UTG+4 Folded before the FLOP\n",
      "Seat+9: UTG+5 Folded before the FLOP\n",
      "\n",
      "\n",
      "\n"
     ]
    }
   ],
   "source": [
    "testHand = ignitionHands.split(\"Ignition Hand\")[6]\n",
    "print(testHand)"
   ]
  },
  {
   "cell_type": "code",
   "execution_count": 7,
   "metadata": {
    "scrolled": true
   },
   "outputs": [],
   "source": [
    "\n",
    "#Process Data\n",
    "#----------Text parcing\n",
    "##---------Table of hand and action \n",
    "###--------Table of RFI position "
   ]
  },
  {
   "cell_type": "code",
   "execution_count": 8,
   "metadata": {},
   "outputs": [],
   "source": [
    "#completed functions \n",
    "\n",
    "def parseHandPos(preflopLine):\n",
    "    #accept 1 line of preflop text \n",
    "    #returns hand and Position info\n",
    "    \n",
    "    if preflopLine.find(\"Card dealt to a spot\") == -1: #this would mean this isnt a card assignemnt line #mistakes \n",
    "        positionInfo,leftcard,rightcard = None,None,None\n",
    "    else: #text parse out \n",
    "        positionInfo = substringline[:substringline.find(\":\")-1]\n",
    "        substringlinewMeRemoved = substringline.replace(\"[Me]\",\"\")\n",
    "        leftcard = substringlinewMeRemoved[substringlinewMeRemoved.find(\"[\")+1:substringlinewMeRemoved.find(\"[\")+3]\n",
    "        rightcard = substringlinewMeRemoved[substringlinewMeRemoved.find(\"[\")+4:substringlinewMeRemoved.find(\"[\")+6]\n",
    "        pass#extract data\n",
    "    \n",
    "    return positionInfo,leftcard,rightcard #cards have no fucntional order"
   ]
  },
  {
   "cell_type": "code",
   "execution_count": 9,
   "metadata": {},
   "outputs": [
    {
     "ename": "SyntaxError",
     "evalue": "unexpected EOF while parsing (<ipython-input-9-eec68db1fe5e>, line 2)",
     "output_type": "error",
     "traceback": [
      "\u001b[1;36m  File \u001b[1;32m\"<ipython-input-9-eec68db1fe5e>\"\u001b[1;36m, line \u001b[1;32m2\u001b[0m\n\u001b[1;33m    #accepts string of action returns tuple of action\u001b[0m\n\u001b[1;37m                                                     ^\u001b[0m\n\u001b[1;31mSyntaxError\u001b[0m\u001b[1;31m:\u001b[0m unexpected EOF while parsing\n"
     ]
    }
   ],
   "source": [
    "def orderOfAction(actionblock):\n",
    "    #accepts string of action returns tuple of action"
   ]
  },
  {
   "cell_type": "code",
   "execution_count": 10,
   "metadata": {},
   "outputs": [],
   "source": [
    "def findSubstringInList(searchList, substring):\n",
    "    #this useful fuction will return the index of the first list index that contains the substring\n",
    "    \n",
    "    if any(substring in string for string in searchList):\n",
    "        return [idx for idx, s in enumerate(searchList) if substring in s][0] #returns the index location\n",
    "    else:\n",
    "        return -1 # returns -1 if the substring is not in the list\n",
    "\n",
    "def preflopChunkParse(handHistory):\n",
    "    ##assume that the last preflop aciton is the line before the \"*** FLOP ***\"\n",
    "    handHistoryLines = handHistory.splitlines()\n",
    "    \n",
    "    preflopEndPhrase = \"*** FLOP ***\"\n",
    "    preflopStartPhrase = \"Card dealt to a spot\"\n",
    "    #using the phrase that starts the next phase\n",
    "    preflopEnd =  findSubstringInList(handHistoryLines,preflopEndPhrase)\n",
    "    \n",
    "    #find the first list index in the reverse list that contains the phrase for card delt\n",
    "    #this should be the last thing done before the preflop aciton \n",
    "    preflopStart = len(handHistoryLines) - findSubstringInList(handHistoryLines[::-1],preflopStartPhrase)\n",
    "    \n",
    "    #find the beginning and ending line\n",
    "    \n",
    "    preflopHandHistoryLines = handHistoryLines[preflopStart:preflopEnd]\n",
    "    return preflopHandHistoryLines"
   ]
  },
  {
   "cell_type": "code",
   "execution_count": 11,
   "metadata": {},
   "outputs": [],
   "source": [
    "def RFIAction(preflopHandHistoryLines):\n",
    "    #expecting input of lines from the preflop\n",
    "    \n",
    "    RFIEndPhrase = \"Raises\"\n",
    "    \n",
    "    endingIndex = findSubstringInList(preflopHandHistoryLines, RFIEndPhrase)\n",
    "    \n",
    "    RFIActionLines = preflopHandHistoryLines[:endingIndex]\n",
    "    \n",
    "    return RFIActionLines"
   ]
  },
  {
   "cell_type": "code",
   "execution_count": null,
   "metadata": {},
   "outputs": [],
   "source": [
    "#find RFI\n",
    "#incomplete funciton ____________________________%%%%%%%%%%%%%%%%%%%%%%%%%%%%%\n",
    "def getRFIposition(preflopBlock):\n",
    "    \n",
    "    #assume that the first line that says the word raise should be the RFI\n",
    "    # check by seing if the raise to x with total of x\n",
    "    \n",
    "    preflopLines = preflopBlock.splitlines()\n",
    "    \n",
    "    positionString= \"notfound\"\n",
    "    for i in range(len(preflopLines)):\n",
    "        textline = preflopLines[i]\n",
    "        if \"Raise\" in textline:\n",
    "            positionString = textline[:textline.find(\":\")-1]\n",
    "    \n",
    "    return positionString"
   ]
  },
  {
   "cell_type": "code",
   "execution_count": 22,
   "metadata": {},
   "outputs": [],
   "source": [
    "def getAllLinesContainingSubString(listOfStrings, substring):\n",
    "    return [s for s in listOfStrings if substring in s]\n",
    "\n",
    "def spliceDeal(HandHistory):\n",
    "    handHistoryLines = HandHistory.splitlines() \n",
    "    cardDealPhrase = \"Card dealt to a spot\"\n",
    "    return getAllLinesContainingSubString(handHistoryLines, cardDealPhrase)\n",
    "def createHoleCardDict():\n",
    "    None"
   ]
  },
  {
   "cell_type": "code",
   "execution_count": 23,
   "metadata": {},
   "outputs": [
    {
     "data": {
      "text/plain": [
       "['Dealer : Card dealt to a spot [Jd Ks] ',\n",
       " 'Small Blind : Card dealt to a spot [8s Kh] ',\n",
       " 'Big Blind : Card dealt to a spot [Ts 3s] ',\n",
       " 'UTG : Card dealt to a spot [8d 4c] ',\n",
       " 'UTG+1 : Card dealt to a spot [4h 3d] ',\n",
       " 'UTG+2 : Card dealt to a spot [6d 6h] ',\n",
       " 'UTG+3  [ME] : Card dealt to a spot [2d Jh] ',\n",
       " 'UTG+4 : Card dealt to a spot [2c Tc] ',\n",
       " 'UTG+5 : Card dealt to a spot [9s 7c] ']"
      ]
     },
     "execution_count": 23,
     "metadata": {},
     "output_type": "execute_result"
    }
   ],
   "source": [
    "specialPhrase = \"Card dealt to a spot\"\n",
    "#preflopChunkParse(testHand,specialPhrase)\n",
    "spliceDeal(testHand)"
   ]
  },
  {
   "cell_type": "code",
   "execution_count": 9,
   "metadata": {},
   "outputs": [
    {
     "name": "stdout",
     "output_type": "stream",
     "text": [
      "UTG+5\n"
     ]
    }
   ],
   "source": [
    "print(getRFIposition(substring))"
   ]
  },
  {
   "cell_type": "code",
   "execution_count": 7,
   "metadata": {},
   "outputs": [],
   "source": [
    "#find RFI or fold \n",
    "#runs until there is a RFI, \n",
    "def raiseFirstIn(preflopblock):\n",
    "    preflopLines = preflopblock.splitlines()\n",
    "    \n",
    "    preflopdata = pd.DataFrame(columns = [\"Hand Index\",\"Table Position\",\"Hand\"])\n",
    "    \n",
    "    for i in range(len(preflopLines)):\n",
    "        \n",
    "        \n",
    "        if \"Card dealt to a spot\" not in preflopLines[i]:\n",
    "            positionInfo,leftcard,rightcard = parseHandPos(preflopLines[i])\n",
    "            handinfo = pd.DataFrame([positionInfo,leftcard,rightcard]) \n",
    "            \n",
    "            preflopdata.append(handinfo)\n",
    "        if \"Folds\" in preflopLines[i]:\n",
    "                action = \"Folds\"\n",
    "                    \n",
    "                    #find cards for same position\n",
    "         \n",
    "\n",
    "    return preflopdata\n",
    "\n",
    "#preflop block \n",
    "\n",
    "\n",
    "#return dataframe to append "
   ]
  },
  {
   "cell_type": "code",
   "execution_count": 8,
   "metadata": {},
   "outputs": [
    {
     "ename": "NameError",
     "evalue": "name 'parseHandPos' is not defined",
     "output_type": "error",
     "traceback": [
      "\u001b[1;31m---------------------------------------------------------------------------\u001b[0m",
      "\u001b[1;31mNameError\u001b[0m                                 Traceback (most recent call last)",
      "\u001b[1;32m<ipython-input-8-13cf4f30981c>\u001b[0m in \u001b[0;36m<module>\u001b[1;34m\u001b[0m\n\u001b[0;32m      9\u001b[0m \u001b[0msubstring\u001b[0m \u001b[1;33m=\u001b[0m \u001b[0ms\u001b[0m\u001b[1;33m[\u001b[0m\u001b[0mstart\u001b[0m\u001b[1;33m:\u001b[0m\u001b[0mend\u001b[0m\u001b[1;33m]\u001b[0m\u001b[1;33m\u001b[0m\u001b[1;33m\u001b[0m\u001b[0m\n\u001b[0;32m     10\u001b[0m \u001b[1;33m\u001b[0m\u001b[0m\n\u001b[1;32m---> 11\u001b[1;33m \u001b[0mraiseFirstIn\u001b[0m\u001b[1;33m(\u001b[0m\u001b[0msubstring\u001b[0m\u001b[1;33m)\u001b[0m\u001b[1;33m.\u001b[0m\u001b[0mhead\u001b[0m\u001b[1;33m(\u001b[0m\u001b[1;33m)\u001b[0m\u001b[1;33m\u001b[0m\u001b[1;33m\u001b[0m\u001b[0m\n\u001b[0m",
      "\u001b[1;32m<ipython-input-7-fa43662e73c3>\u001b[0m in \u001b[0;36mraiseFirstIn\u001b[1;34m(preflopblock)\u001b[0m\n\u001b[0;32m     10\u001b[0m \u001b[1;33m\u001b[0m\u001b[0m\n\u001b[0;32m     11\u001b[0m         \u001b[1;32mif\u001b[0m \u001b[1;34m\"Card dealt to a spot\"\u001b[0m \u001b[1;32mnot\u001b[0m \u001b[1;32min\u001b[0m \u001b[0mpreflopLines\u001b[0m\u001b[1;33m[\u001b[0m\u001b[0mi\u001b[0m\u001b[1;33m]\u001b[0m\u001b[1;33m:\u001b[0m\u001b[1;33m\u001b[0m\u001b[1;33m\u001b[0m\u001b[0m\n\u001b[1;32m---> 12\u001b[1;33m             \u001b[0mpositionInfo\u001b[0m\u001b[1;33m,\u001b[0m\u001b[0mleftcard\u001b[0m\u001b[1;33m,\u001b[0m\u001b[0mrightcard\u001b[0m \u001b[1;33m=\u001b[0m \u001b[0mparseHandPos\u001b[0m\u001b[1;33m(\u001b[0m\u001b[0mpreflopLines\u001b[0m\u001b[1;33m[\u001b[0m\u001b[0mi\u001b[0m\u001b[1;33m]\u001b[0m\u001b[1;33m)\u001b[0m\u001b[1;33m\u001b[0m\u001b[1;33m\u001b[0m\u001b[0m\n\u001b[0m\u001b[0;32m     13\u001b[0m             \u001b[0mhandinfo\u001b[0m \u001b[1;33m=\u001b[0m \u001b[0mpd\u001b[0m\u001b[1;33m.\u001b[0m\u001b[0mDataFrame\u001b[0m\u001b[1;33m(\u001b[0m\u001b[1;33m[\u001b[0m\u001b[0mpositionInfo\u001b[0m\u001b[1;33m,\u001b[0m\u001b[0mleftcard\u001b[0m\u001b[1;33m,\u001b[0m\u001b[0mrightcard\u001b[0m\u001b[1;33m]\u001b[0m\u001b[1;33m)\u001b[0m\u001b[1;33m\u001b[0m\u001b[1;33m\u001b[0m\u001b[0m\n\u001b[0;32m     14\u001b[0m \u001b[1;33m\u001b[0m\u001b[0m\n",
      "\u001b[1;31mNameError\u001b[0m: name 'parseHandPos' is not defined"
     ]
    }
   ],
   "source": [
    "i=3\n",
    "s = ignitionHands.split(\"Ignition Hand\")[i]\n",
    "startstringmarker = \"*** HOLE CARDS ***\"\n",
    "endingstringmarker = \"*** FLOP ***\"\n",
    "\n",
    "start = s.find(startstringmarker) + len(startstringmarker)\n",
    "end = s.find(endingstringmarker)\n",
    "\n",
    "substring = s[start:end]\n",
    "\n",
    "raiseFirstIn(substring).head()\n"
   ]
  },
  {
   "cell_type": "code",
   "execution_count": 14,
   "metadata": {},
   "outputs": [
    {
     "ename": "NameError",
     "evalue": "name 'preflopdata' is not defined",
     "output_type": "error",
     "traceback": [
      "\u001b[1;31m---------------------------------------------------------------------------\u001b[0m",
      "\u001b[1;31mNameError\u001b[0m                                 Traceback (most recent call last)",
      "\u001b[1;32m<ipython-input-14-d571109b28fd>\u001b[0m in \u001b[0;36m<module>\u001b[1;34m\u001b[0m\n\u001b[1;32m----> 1\u001b[1;33m \u001b[0mpreflopdata\u001b[0m\u001b[1;33m.\u001b[0m\u001b[0mhead\u001b[0m\u001b[1;33m(\u001b[0m\u001b[1;36m5\u001b[0m\u001b[1;33m)\u001b[0m\u001b[1;33m\u001b[0m\u001b[1;33m\u001b[0m\u001b[0m\n\u001b[0m",
      "\u001b[1;31mNameError\u001b[0m: name 'preflopdata' is not defined"
     ]
    }
   ],
   "source": [
    "preflopdata.head(5)"
   ]
  },
  {
   "cell_type": "code",
   "execution_count": 15,
   "metadata": {},
   "outputs": [
    {
     "name": "stdout",
     "output_type": "stream",
     "text": [
      "['UTG : Folds', 'UTG+1 : Folds']\n"
     ]
    }
   ],
   "source": [
    "print(RFIAction(preflopChunkParse(testHand)))\n"
   ]
  },
  {
   "cell_type": "code",
   "execution_count": null,
   "metadata": {},
   "outputs": [],
   "source": [
    "#this block tests the text parsing. but ultimately isnt part of the end product\n",
    "i=2\n",
    "s = ignitionHands.split(\"Ignition Hand\")[i]\n",
    "startstringmarker = \"*** HOLE CARDS ***\"\n",
    "endingstringmarker = \"*** FLOP ***\"\n",
    "\n",
    "start = s.find(startstringmarker) + len(startstringmarker)\n",
    "end = s.find(endingstringmarker)\n",
    "\n",
    "substring = s[start:end]\n",
    "\n",
    "substringline = substring.splitlines()[2]\n",
    "if s.find(\":\") == -1:\n",
    "    pass\n",
    "else:\n",
    "    positionInfo = substringline[:substringline.find(\":\")-1]\n",
    "    substringlinewMeRemoved = substringline.replace(\"[Me]\",\"\")\n",
    "    leftcard = substringlinewMeRemoved[substringlinewMeRemoved.find(\"[\")+1:substringlinewMeRemoved.find(\"[\")+3]\n",
    "    rightcard = substringlinewMeRemoved[substringlinewMeRemoved.find(\"[\")+4:substringlinewMeRemoved.find(\"[\")+6]\n",
    "    pass#extract data\n",
    "\n",
    "for i in range(len(substringline)):\n",
    "    if positionInfo in substringline:\n",
    "        if \n",
    "        \n",
    "\n",
    "print(positionInfo)\n",
    "print(leftcard)\n",
    "print(rightcard)"
   ]
  }
 ],
 "metadata": {
  "kernelspec": {
   "display_name": "Python 3",
   "language": "python",
   "name": "python3"
  },
  "language_info": {
   "codemirror_mode": {
    "name": "ipython",
    "version": 3
   },
   "file_extension": ".py",
   "mimetype": "text/x-python",
   "name": "python",
   "nbconvert_exporter": "python",
   "pygments_lexer": "ipython3",
   "version": "3.8.3"
  }
 },
 "nbformat": 4,
 "nbformat_minor": 4
}
