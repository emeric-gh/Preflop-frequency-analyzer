{
 "cells": [
  {
   "cell_type": "code",
   "execution_count": 2,
   "metadata": {},
   "outputs": [],
   "source": [
    "#Preflop analyzer\n"
   ]
  },
  {
   "cell_type": "code",
   "execution_count": null,
   "metadata": {},
   "outputs": [],
   "source": [
    "#Goal create a Faise First In(RFI) table with position \n",
    " #howto - need to parse my hands, then determine what position im in, and determine if im the RFI\n",
    " #howto - then, i need to matplotlib 6 or so plots from the individual positions\n",
    "         #- i would like this to be in the standard (A-2 * A-2) plot coloring the played range \n",
    "\n",
    "#Goal 2 - take the data and report some sort of percentage of play for hand per position, otherwise we may misrepresent a super large range of hands \n",
    " #howto - we need a boolean average of hand per position reported in our figure \n",
    "#Goal "
   ]
  },
  {
   "cell_type": "code",
   "execution_count": 4,
   "metadata": {},
   "outputs": [],
   "source": [
    "import pandas as pd"
   ]
  },
  {
   "cell_type": "code",
   "execution_count": 18,
   "metadata": {},
   "outputs": [
    {
     "name": "stdout",
     "output_type": "stream",
     "text": [
      " #3915240980 TBL#21035758 HOLDEM No Limit - 2020-04-04 15:56:30\n",
      "Seat 1: UTG+2 ($3.62 in chips)\n",
      "Seat 2: UTG+3 ($46.94 in chips)\n",
      "Seat 3: UTG+4 ($10 in chips)\n",
      "Seat 4: Dealer ($1.74 in chips)\n",
      "Seat 5: Small Blind [ME] ($9.90 in chips)\n",
      "Seat 6: Big Blind ($10 in chips)\n",
      "Seat 8: UTG ($3.19 in chips)\n",
      "Seat 9: UTG+1 ($11.54 in chips)\n",
      "Dealer : Set dealer [4] \n",
      "Small Blind  [ME] : Small Blind $0.05 \n",
      "Big Blind : Big blind $0.10 \n",
      "*** HOLE CARDS ***\n",
      "UTG+2 : Card dealt to a spot [Kd 2s] \n",
      "UTG+3 : Card dealt to a spot [Js 6d] \n",
      "UTG+4 : Card dealt to a spot [Tc Ts] \n",
      "Dealer : Card dealt to a spot [Jd Qd] \n",
      "Small Blind  [ME] : Card dealt to a spot [4s 4h] \n",
      "Big Blind : Card dealt to a spot [3d 4c] \n",
      "UTG : Card dealt to a spot [Jh 6c] \n",
      "UTG+1 : Card dealt to a spot [3s 9h] \n",
      "UTG : Folds\n",
      "UTG+1 : Folds\n",
      "UTG+2 : Folds\n",
      "UTG+3 : Folds\n",
      "UTG+4 : Raises $0.50 to $0.50\n",
      "Dealer : Calls $0.50 \n",
      "Seat re-join\n",
      "Small Blind  [ME] : Folds\n",
      "Big Blind : Folds\n",
      "*** FLOP *** [8s 7c 8h]\n",
      "UTG+4 : Bets $1.30 \n",
      "Dealer : Folds\n",
      "UTG+4 : Return uncalled portion of bet $1.30 \n",
      "UTG+4 : Does not show [Tc Ts] (Two pair)\n",
      "UTG+4 : Hand result $1.10 \n",
      "*** SUMMARY ***\n",
      "Total Pot($1.15)\n",
      "Board [8s 7c 8h  ]\n",
      "Seat+1: UTG+2 Folded before the FLOP\n",
      "Seat+2: UTG+3 Folded before the FLOP\n",
      "Seat+3: UTG+4 $1.10 [Does not show]  \n",
      "Seat+4: Dealer Folded on the FLOP\n",
      "Seat+5: Small Blind Folded before the FLOP\n",
      "Seat+6: Big Blind Folded before the FLOP\n",
      "Seat+8: UTG Folded before the FLOP\n",
      "Seat+9: UTG+1 Folded before the FLOP\n",
      "\n",
      "\n",
      "\n"
     ]
    }
   ],
   "source": [
    "#ignitionHandHistoryFile = input(\"Text file dir:\")\n",
    "#Import Text file \n",
    "ignitionHands = open(\"C:\\\\Users\\\\Emeri\\\\Ignition Casino Poker\\\\Hand History\\\\580637703455\\\\HH20200404-155356 - 7742329 - RING - $0.05-$0.10 - HOLDEM - NL - TBL No.21035758.txt\",\"r\").read()\n",
    "print(ignitionHands.split(\"Ignition Hand\")[2])"
   ]
  },
  {
   "cell_type": "code",
   "execution_count": null,
   "metadata": {},
   "outputs": [],
   "source": [
    "#Process Data\n",
    "#----------Text parcing\n",
    "##---------Table of hand and action \n",
    "###--------Table of RFI position "
   ]
  }
 ],
 "metadata": {
  "kernelspec": {
   "display_name": "Python 3",
   "language": "python",
   "name": "python3"
  },
  "language_info": {
   "codemirror_mode": {
    "name": "ipython",
    "version": 3
   },
   "file_extension": ".py",
   "mimetype": "text/x-python",
   "name": "python",
   "nbconvert_exporter": "python",
   "pygments_lexer": "ipython3",
   "version": "3.8.3"
  }
 },
 "nbformat": 4,
 "nbformat_minor": 4
}
