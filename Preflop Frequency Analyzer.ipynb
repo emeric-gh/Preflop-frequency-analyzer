{
 "cells": [
  {
   "cell_type": "code",
   "execution_count": 2,
   "metadata": {},
   "outputs": [],
   "source": [
    "#Preflop analyzer\n"
   ]
  },
  {
   "cell_type": "code",
   "execution_count": 3,
   "metadata": {},
   "outputs": [],
   "source": [
    "#Goal create a Faise First In(RFI) table with position \n",
    " #howto - need to parse my hands, then determine what position im in, and determine if im the RFI\n",
    " #howto - then, i need to matplotlib 6 or so plots from the individual positions\n",
    "         #- i would like this to be in the standard (A-2 * A-2) plot coloring the played range \n",
    "\n",
    "#Goal 2 - take the data and report some sort of percentage of play for hand per position, otherwise we may misrepresent a super large range of hands \n",
    " #howto - we need a boolean average of hand per position reported in our figure \n",
    "#Goal "
   ]
  },
  {
   "cell_type": "code",
   "execution_count": 4,
   "metadata": {},
   "outputs": [],
   "source": [
    "import pandas as pd"
   ]
  },
  {
   "cell_type": "code",
   "execution_count": 5,
   "metadata": {},
   "outputs": [
    {
     "name": "stdout",
     "output_type": "stream",
     "text": [
      "file dir:C:\\Users\\edavid\\Documents\\Data\\IPHH\\1.txt\n",
      " #3915240980 TBL#21035758 HOLDEM No Limit - 2020-04-04 15:56:30\n",
      "Seat 1: UTG+2 ($3.62 in chips)\n",
      "Seat 2: UTG+3 ($46.94 in chips)\n",
      "Seat 3: UTG+4 ($10 in chips)\n",
      "Seat 4: Dealer ($1.74 in chips)\n",
      "Seat 5: Small Blind [ME] ($9.90 in chips)\n",
      "Seat 6: Big Blind ($10 in chips)\n",
      "Seat 8: UTG ($3.19 in chips)\n",
      "Seat 9: UTG+1 ($11.54 in chips)\n",
      "Dealer : Set dealer [4] \n",
      "Small Blind  [ME] : Small Blind $0.05 \n",
      "Big Blind : Big blind $0.10 \n",
      "*** HOLE CARDS ***\n",
      "UTG+2 : Card dealt to a spot [Kd 2s] \n",
      "UTG+3 : Card dealt to a spot [Js 6d] \n",
      "UTG+4 : Card dealt to a spot [Tc Ts] \n",
      "Dealer : Card dealt to a spot [Jd Qd] \n",
      "Small Blind  [ME] : Card dealt to a spot [4s 4h] \n",
      "Big Blind : Card dealt to a spot [3d 4c] \n",
      "UTG : Card dealt to a spot [Jh 6c] \n",
      "UTG+1 : Card dealt to a spot [3s 9h] \n",
      "UTG : Folds\n",
      "UTG+1 : Folds\n",
      "UTG+2 : Folds\n",
      "UTG+3 : Folds\n",
      "UTG+4 : Raises $0.50 to $0.50\n",
      "Dealer : Calls $0.50 \n",
      "Seat re-join\n",
      "Small Blind  [ME] : Folds\n",
      "Big Blind : Folds\n",
      "*** FLOP *** [8s 7c 8h]\n",
      "UTG+4 : Bets $1.30 \n",
      "Dealer : Folds\n",
      "UTG+4 : Return uncalled portion of bet $1.30 \n",
      "UTG+4 : Does not show [Tc Ts] (Two pair)\n",
      "UTG+4 : Hand result $1.10 \n",
      "*** SUMMARY ***\n",
      "Total Pot($1.15)\n",
      "Board [8s 7c 8h  ]\n",
      "Seat+1: UTG+2 Folded before the FLOP\n",
      "Seat+2: UTG+3 Folded before the FLOP\n",
      "Seat+3: UTG+4 $1.10 [Does not show]  \n",
      "Seat+4: Dealer Folded on the FLOP\n",
      "Seat+5: Small Blind Folded before the FLOP\n",
      "Seat+6: Big Blind Folded before the FLOP\n",
      "Seat+8: UTG Folded before the FLOP\n",
      "Seat+9: UTG+1 Folded before the FLOP\n",
      "\n",
      "\n",
      "\n"
     ]
    }
   ],
   "source": [
    "#ignitionHandHistoryFile = input(\"Text file dir:\")\n",
    "handhistoryfilename = input(\"file dir:\")\n",
    "handhistoryfilename.replace(\"\\\\\",\"\\\\\\\\\")\n",
    "                            \n",
    "ignitionHands = open(handhistoryfilename,\"r\").read()\n",
    "print(ignitionHands.split(\"Ignition Hand\")[2])\n",
    "\n"
   ]
  },
  {
   "cell_type": "code",
   "execution_count": 22,
   "metadata": {},
   "outputs": [
    {
     "name": "stdout",
     "output_type": "stream",
     "text": [
      "UTG+3\n",
      "Js\n",
      "6d\n"
     ]
    }
   ],
   "source": [
    "i=2\n",
    "s = ignitionHands.split(\"Ignition Hand\")[i]\n",
    "startstringmarker = \"*** HOLE CARDS ***\"\n",
    "endingstringmarker = \"*** FLOP ***\"\n",
    "\n",
    "start = s.find(startstringmarker) + len(startstringmarker)\n",
    "end = s.find(endingstringmarker)\n",
    "\n",
    "substring = s[start:end]\n",
    "\n",
    "substringline = substring.splitlines()[2]\n",
    "if s.find(\":\") == -1:\n",
    "    pass\n",
    "else:\n",
    "    positionInfo = substringline[:substringline.find(\":\")-1]\n",
    "    substringlinewMeRemoved = substringline.replace(\"[Me]\",\"\")\n",
    "    leftcard = substringlinewMeRemoved[substringlinewMeRemoved.find(\"[\")+1:substringlinewMeRemoved.find(\"[\")+3]\n",
    "    rightcard = substringlinewMeRemoved[substringlinewMeRemoved.find(\"[\")+4:substringlinewMeRemoved.find(\"[\")+6]\n",
    "    pass#extract data\n",
    "\n",
    "for i in range(len(substringline)):\n",
    "    if positionInfo in substringline:\n",
    "        if \n",
    "        \n",
    "\n",
    "print(positionInfo)\n",
    "print(leftcard)\n",
    "print(rightcard)"
   ]
  },
  {
   "cell_type": "code",
   "execution_count": 7,
   "metadata": {
    "scrolled": true
   },
   "outputs": [],
   "source": [
    "\n",
    "#Process Data\n",
    "#----------Text parcing\n",
    "##---------Table of hand and action \n",
    "###--------Table of RFI position "
   ]
  },
  {
   "cell_type": "code",
   "execution_count": 2,
   "metadata": {},
   "outputs": [],
   "source": [
    "def parseHandPos(preflopLine):\n",
    "    #accept 1 line of preflop text \n",
    "    #returns hand and Position info\n",
    "    \n",
    "    if preflopBlock.find(\":\") == -1: #this would mean this isnt a card assignemnt line #mistakes \n",
    "        positionInfo,leftcard,rightcard = None,None,None\n",
    "    else: #text parse out \n",
    "        positionInfo = substringline[:substringline.find(\":\")-1]\n",
    "        substringlinewMeRemoved = substringline.replace(\"[Me]\",\"\")\n",
    "        leftcard = substringlinewMeRemoved[substringlinewMeRemoved.find(\"[\")+1:substringlinewMeRemoved.find(\"[\")+3]\n",
    "        rightcard = substringlinewMeRemoved[substringlinewMeRemoved.find(\"[\")+4:substringlinewMeRemoved.find(\"[\")+6]\n",
    "        pass#extract data\n",
    "    \n",
    "    return positionInfo,leftcard,rightcard #cards have no fucntional order"
   ]
  },
  {
   "cell_type": "code",
   "execution_count": 31,
   "metadata": {},
   "outputs": [],
   "source": [
    "#find RFI\n",
    "def getRFIposition(preflopBlock):\n",
    "    \n",
    "    #assume that the first line that says the word raise should be the RFI\n",
    "    # check by seing if the raise to x with total of x\n",
    "    \n",
    "    preflopLines = preflopBlock.splitlines()\n",
    "    \n",
    "    positionString= \"notfound\"\n",
    "    for i in range(len(preflopLines)):\n",
    "        textline = preflopLines[i]\n",
    "        if \"Raise\" in textline:\n",
    "            positionString = textline[:textline.find(\":\")-1]\n",
    "    \n",
    "    return positionString"
   ]
  },
  {
   "cell_type": "code",
   "execution_count": 32,
   "metadata": {},
   "outputs": [
    {
     "name": "stdout",
     "output_type": "stream",
     "text": [
      "UTG+4\n"
     ]
    }
   ],
   "source": [
    "print(getRFIposition(substring))"
   ]
  },
  {
   "cell_type": "code",
   "execution_count": null,
   "metadata": {},
   "outputs": [],
   "source": [
    "#find RFI or fold \n",
    "#runs until there is a RFI, \n",
    "def raiseFirstIn(preflopblock):\n",
    "    preflopLines = preflopblock.splitlines()\n",
    "    \n",
    "    for i in range(len(preflopLines)):\n",
    "        \n",
    "        \n",
    "        \n",
    "    \n",
    "    \n",
    "    \n",
    "    return foldLimpRFIhands\n",
    "\n",
    "#preflop block \n",
    "\n",
    "\n",
    "#return dataframe to append "
   ]
  },
  {
   "cell_type": "code",
   "execution_count": 8,
   "metadata": {},
   "outputs": [],
   "source": [
    "preflopdata = pd.DataFrame(columns = [\"Hand Index\",\"Table Position\",\"Hand\"])\n"
   ]
  },
  {
   "cell_type": "code",
   "execution_count": 9,
   "metadata": {},
   "outputs": [
    {
     "data": {
      "text/html": [
       "<div>\n",
       "<style scoped>\n",
       "    .dataframe tbody tr th:only-of-type {\n",
       "        vertical-align: middle;\n",
       "    }\n",
       "\n",
       "    .dataframe tbody tr th {\n",
       "        vertical-align: top;\n",
       "    }\n",
       "\n",
       "    .dataframe thead th {\n",
       "        text-align: right;\n",
       "    }\n",
       "</style>\n",
       "<table border=\"1\" class=\"dataframe\">\n",
       "  <thead>\n",
       "    <tr style=\"text-align: right;\">\n",
       "      <th></th>\n",
       "      <th>Hand Index</th>\n",
       "      <th>Table Position</th>\n",
       "      <th>Hand</th>\n",
       "    </tr>\n",
       "  </thead>\n",
       "  <tbody>\n",
       "  </tbody>\n",
       "</table>\n",
       "</div>"
      ],
      "text/plain": [
       "Empty DataFrame\n",
       "Columns: [Hand Index, Table Position, Hand]\n",
       "Index: []"
      ]
     },
     "execution_count": 9,
     "metadata": {},
     "output_type": "execute_result"
    }
   ],
   "source": [
    "preflopdata.head()"
   ]
  },
  {
   "cell_type": "code",
   "execution_count": null,
   "metadata": {},
   "outputs": [],
   "source": []
  }
 ],
 "metadata": {
  "kernelspec": {
   "display_name": "Python 3",
   "language": "python",
   "name": "python3"
  },
  "language_info": {
   "codemirror_mode": {
    "name": "ipython",
    "version": 3
   },
   "file_extension": ".py",
   "mimetype": "text/x-python",
   "name": "python",
   "nbconvert_exporter": "python",
   "pygments_lexer": "ipython3",
   "version": "3.8.3"
  }
 },
 "nbformat": 4,
 "nbformat_minor": 4
}
